{
 "cells": [
  {
   "cell_type": "code",
   "execution_count": 35,
   "metadata": {},
   "outputs": [
    {
     "name": "stdout",
     "output_type": "stream",
     "text": [
      "<class 'float'>\n",
      "0\n"
     ]
    }
   ],
   "source": [
    "import math\n",
    "x=8.881784197001252e-16\n",
    "print(type(x))\n",
    "x1=2.225\n",
    "y=math.floor(x)\n",
    "print(y)"
   ]
  },
  {
   "cell_type": "code",
   "execution_count": 8,
   "metadata": {},
   "outputs": [
    {
     "name": "stdout",
     "output_type": "stream",
     "text": [
      "1\n",
      "3\n",
      "5\n",
      "7\n",
      "9\n"
     ]
    }
   ],
   "source": [
    "list = [1, 3, 5, 7, 9] \n",
    "   \n",
    "# getting length of list \n",
    "length = len(list) \n",
    "   \n",
    "# Iterating the index \n",
    "# same as 'for i in range(len(list))' \n",
    "for i in range(length): \n",
    "    print(list[i]) "
   ]
  },
  {
   "cell_type": "code",
   "execution_count": 20,
   "metadata": {},
   "outputs": [
    {
     "ename": "TypeError",
     "evalue": "'float' object is not iterable",
     "output_type": "error",
     "traceback": [
      "\u001b[1;31m---------------------------------------------------------------------------\u001b[0m",
      "\u001b[1;31mTypeError\u001b[0m                                 Traceback (most recent call last)",
      "\u001b[1;32m<ipython-input-20-a98405617d34>\u001b[0m in \u001b[0;36m<module>\u001b[1;34m()\u001b[0m\n\u001b[0;32m      1\u001b[0m \u001b[0mdataset\u001b[0m \u001b[1;33m=\u001b[0m \u001b[1;33m[\u001b[0m\u001b[1;33m[\u001b[0m\u001b[1;36m1\u001b[0m\u001b[1;33m,\u001b[0m \u001b[1;36m1\u001b[0m\u001b[1;33m]\u001b[0m\u001b[1;33m,\u001b[0m \u001b[1;33m[\u001b[0m\u001b[1;36m2\u001b[0m\u001b[1;33m,\u001b[0m \u001b[1;36m3\u001b[0m\u001b[1;33m]\u001b[0m\u001b[1;33m,\u001b[0m \u001b[1;33m[\u001b[0m\u001b[1;36m4\u001b[0m\u001b[1;33m,\u001b[0m \u001b[1;36m3\u001b[0m\u001b[1;33m]\u001b[0m\u001b[1;33m,\u001b[0m \u001b[1;33m[\u001b[0m\u001b[1;36m3\u001b[0m\u001b[1;33m,\u001b[0m \u001b[1;36m2\u001b[0m\u001b[1;33m]\u001b[0m\u001b[1;33m,\u001b[0m \u001b[1;33m[\u001b[0m\u001b[1;36m5\u001b[0m\u001b[1;33m,\u001b[0m \u001b[1;36m5\u001b[0m\u001b[1;33m]\u001b[0m\u001b[1;33m]\u001b[0m\u001b[1;33m\u001b[0m\u001b[0m\n\u001b[1;32m----> 2\u001b[1;33m \u001b[0mb0\u001b[0m\u001b[1;33m,\u001b[0m \u001b[0mb1\u001b[0m \u001b[1;33m=\u001b[0m \u001b[0mcoefficients\u001b[0m\u001b[1;33m(\u001b[0m\u001b[0mdataset\u001b[0m\u001b[1;33m)\u001b[0m\u001b[1;33m\u001b[0m\u001b[0m\n\u001b[0m\u001b[0;32m      3\u001b[0m \u001b[0mprint\u001b[0m\u001b[1;33m(\u001b[0m\u001b[1;34m'Coefficients: B0=%.3f, B1=%.3f'\u001b[0m \u001b[1;33m%\u001b[0m \u001b[1;33m(\u001b[0m\u001b[0mb0\u001b[0m\u001b[1;33m,\u001b[0m \u001b[0mb1\u001b[0m\u001b[1;33m)\u001b[0m\u001b[1;33m)\u001b[0m\u001b[1;33m\u001b[0m\u001b[0m\n",
      "\u001b[1;32m<ipython-input-19-c782f1104d4c>\u001b[0m in \u001b[0;36mcoefficients\u001b[1;34m(dataset)\u001b[0m\n\u001b[0;32m      4\u001b[0m     \u001b[0mx_mean\u001b[0m\u001b[1;33m,\u001b[0m \u001b[0my_mean\u001b[0m \u001b[1;33m=\u001b[0m \u001b[0mmean\u001b[0m\u001b[1;33m(\u001b[0m\u001b[0mx\u001b[0m\u001b[1;33m)\u001b[0m\u001b[1;33m,\u001b[0m \u001b[0mmean\u001b[0m\u001b[1;33m(\u001b[0m\u001b[0my\u001b[0m\u001b[1;33m)\u001b[0m\u001b[1;33m\u001b[0m\u001b[0m\n\u001b[0;32m      5\u001b[0m     \u001b[1;32mfor\u001b[0m \u001b[0mi\u001b[0m \u001b[1;32min\u001b[0m \u001b[0mrange\u001b[0m\u001b[1;33m(\u001b[0m\u001b[0mlen\u001b[0m\u001b[1;33m(\u001b[0m\u001b[0mx\u001b[0m\u001b[1;33m)\u001b[0m\u001b[1;33m)\u001b[0m\u001b[1;33m:\u001b[0m\u001b[1;33m\u001b[0m\u001b[0m\n\u001b[1;32m----> 6\u001b[1;33m         \u001b[0mb1\u001b[0m \u001b[1;33m=\u001b[0m \u001b[0msum\u001b[0m\u001b[1;33m(\u001b[0m\u001b[1;33m(\u001b[0m\u001b[0mx\u001b[0m\u001b[1;33m[\u001b[0m\u001b[0mi\u001b[0m\u001b[1;33m]\u001b[0m \u001b[1;33m-\u001b[0m \u001b[0mmean\u001b[0m\u001b[1;33m(\u001b[0m\u001b[0mx\u001b[0m\u001b[1;33m)\u001b[0m\u001b[1;33m)\u001b[0m \u001b[1;33m*\u001b[0m \u001b[1;33m(\u001b[0m\u001b[0my\u001b[0m\u001b[1;33m[\u001b[0m\u001b[0mi\u001b[0m\u001b[1;33m]\u001b[0m \u001b[1;33m-\u001b[0m \u001b[0mmean\u001b[0m\u001b[1;33m(\u001b[0m\u001b[0my\u001b[0m\u001b[1;33m)\u001b[0m\u001b[1;33m)\u001b[0m\u001b[1;33m)\u001b[0m \u001b[1;33m/\u001b[0m \u001b[0msum\u001b[0m\u001b[1;33m(\u001b[0m \u001b[1;33m(\u001b[0m\u001b[0mx\u001b[0m\u001b[1;33m[\u001b[0m\u001b[0mi\u001b[0m\u001b[1;33m]\u001b[0m \u001b[1;33m-\u001b[0m \u001b[0mmean\u001b[0m\u001b[1;33m(\u001b[0m\u001b[0mx\u001b[0m\u001b[1;33m)\u001b[0m\u001b[1;33m)\u001b[0m\u001b[1;33m^\u001b[0m\u001b[1;36m2\u001b[0m \u001b[1;33m)\u001b[0m\u001b[1;33m\u001b[0m\u001b[0m\n\u001b[0m\u001b[0;32m      7\u001b[0m         \u001b[0mb0\u001b[0m \u001b[1;33m=\u001b[0m \u001b[0mmean\u001b[0m\u001b[1;33m(\u001b[0m\u001b[0my\u001b[0m\u001b[1;33m)\u001b[0m \u001b[1;33m-\u001b[0m \u001b[0mb1\u001b[0m \u001b[1;33m*\u001b[0m \u001b[0mmean\u001b[0m\u001b[1;33m(\u001b[0m\u001b[0mx\u001b[0m\u001b[1;33m)\u001b[0m\u001b[1;33m\u001b[0m\u001b[0m\n\u001b[0;32m      8\u001b[0m         \u001b[1;32mreturn\u001b[0m \u001b[1;33m[\u001b[0m\u001b[0mb0\u001b[0m\u001b[1;33m,\u001b[0m \u001b[0mb1\u001b[0m\u001b[1;33m]\u001b[0m\u001b[1;33m\u001b[0m\u001b[0m\n",
      "\u001b[1;31mTypeError\u001b[0m: 'float' object is not iterable"
     ]
    }
   ],
   "source": [
    "dataset = [[1, 1], [2, 3], [4, 3], [3, 2], [5, 5]]\n",
    "b0, b1 = coefficients(dataset)\n",
    "print('Coefficients: B0=%.3f, B1=%.3f' % (b0, b1))"
   ]
  },
  {
   "cell_type": "code",
   "execution_count": 3,
   "metadata": {},
   "outputs": [
    {
     "data": {
      "image/png": "[encoded data removed]",
      "text/plain": [
       "<Figure size 432x288 with 1 Axes>"
      ]
     },
     "metadata": {},
     "output_type": "display_data"
    }
   ],
   "source": [
    "import numpy as np\n",
    "import matplotlib.pyplot as plt\n",
    "\n",
    "x = np.array([4, 8, 13, 26, 31, 10, 8, 30, 18, 12, 20, 5, 28, 18, 6, 31, 12,12, 27, 11, 6, 14, 25, 7, 13,4, 15, 21, 15])\n",
    "\n",
    "y = np.array([14, 24, 22, 59, 66, 25, 18, 60, 39, 32, 53, 18, 55, 41, 28, 61, 35,36, 52, 23, 19, 25, 73, 16, 32, 14, 31, 43, 34])\n",
    "plt.scatter(x,y)\n",
    "plt.xlabel('x')\n",
    "plt.ylabel('y')\n",
    "plt.show()\n"
   ]
  },
  {
   "cell_type": "code",
   "execution_count": 119,
   "metadata": {},
   "outputs": [
    {
     "name": "stdout",
     "output_type": "stream",
     "text": [
      "Mean of x: 3.0\n",
      "Mean of y: 2.8\n",
      "Coefficient b1: 0.8\n",
      "Coefficient b0: 0.39999999999999947\n",
      "Predicted y: [1.2, 2.0, 3.6, 2.8, 4.4]\n"
     ]
    },
    {
     "data": {
      "image/png": "[encoded data removed]",
      "text/plain": [
       "<Figure size 432x288 with 1 Axes>"
      ]
     },
     "metadata": {},
     "output_type": "display_data"
    },
    {
     "name": "stdout",
     "output_type": "stream",
     "text": [
      "[0.19999999999999996, -1.0, 0.6000000000000001, 0.7999999999999998, -0.5999999999999996]\n",
      "Squared Error: [0.03999999999999998, 1.0, 0.3600000000000001, 0.6399999999999997, 0.3599999999999996]\n",
      "Mean of the error: 0.47999999999999987\n",
      "RMSE: 0.6928203230275508\n"
     ]
    }
   ],
   "source": [
    "import numpy as np\n",
    "import matplotlib.pyplot as plt\n",
    "import math\n",
    "\n",
    "\n",
    "def mean(values):\n",
    "    return sum(values) / float(len(values))\n",
    "def x_mean(values,mean):\n",
    "    length = len(values) \n",
    "    lst1=[]\n",
    "    for x in values:\n",
    "        #print(x-mean)\n",
    "        lst1.append(x-mean)\n",
    "    #print(lst1)\n",
    "    ans1 =sum(lst1)\n",
    "    return(lst1)\n",
    "    \n",
    "    \n",
    "def y_mean(values,mean):\n",
    "    length = len(values) \n",
    "    lst1=[]\n",
    "    for x in values:\n",
    "        #print(x-mean)\n",
    "        lst1.append(x-mean)\n",
    "    #print(lst1)\n",
    "    return(lst1)\n",
    "    \n",
    "def calculate_pd(lst1,list2):\n",
    "    res_list = [] \n",
    "    for i in range(0, len(lst1)): \n",
    "        res_list.append(lst1[i] * list2[i]) \n",
    "    sum_res = sum(res_list)\n",
    "    #print(sum_res)\n",
    "    return(sum_res)\n",
    "\n",
    "def b1_compute(num,lst1):\n",
    "    sq_list=[]\n",
    "    for i in lst1:\n",
    "        sq_list.append(i**2)\n",
    "    sq_sum = sum(sq_list)\n",
    "    #print(sq_sum)\n",
    "    b1 = num/sq_sum\n",
    "    return(b1)\n",
    "\n",
    "def make_predictions(b0,b1,x,y):\n",
    "    predict = []\n",
    "    for i in range(0,len(x)):\n",
    "        predict.append(b0+b1*x[i])    \n",
    "    return(predict)\n",
    "\n",
    "def calculate_error(int_predict,y):\n",
    "    rmse_list=[]\n",
    "    squared_error=[]\n",
    "    for i in range(0,len(int_predict)):\n",
    "        rmse_list.append(int_predict[i]-y[i])\n",
    "    print(rmse_list)    \n",
    "    for i in rmse_list:\n",
    "        squared_error.append(i**2)\n",
    "    print(\"Squared Error:\",squared_error)\n",
    "    sum_error = sum(squared_error)    \n",
    "    mean_error=sum_error/len(rmse_list)\n",
    "    print(\"Mean of the error:\",mean_error)\n",
    "    rmse_list=[ round(elem, 2) for elem in rmse_list ]\n",
    "    \n",
    "    rmse=math.sqrt(mean_error)\n",
    "    return(rmse)\n",
    "\n",
    "x=[1,2,4,3,5]\n",
    "y=[1,3,3,2,5]\n",
    "mean_x=mean(x)\n",
    "print(\"Mean of x:\",mean_x)\n",
    "mean_y=mean(y)\n",
    "print(\"Mean of y:\",mean_y)\n",
    "lst1=x_mean(x,mean_x)\n",
    "#print(lst1)\n",
    "list2=y_mean(y,mean_y)\n",
    "#print(list2)\n",
    "\n",
    "num=calculate_pd(lst1,list2)\n",
    "#print(num)\n",
    "b1=b1_compute(num,lst1)\n",
    "print(\"Coefficient b1:\",b1)\n",
    "b0=mean_y - b1 * mean_x\n",
    "print(\"Coefficient b0:\",b0)\n",
    "predict = make_predictions(b0,b1,x,y)\n",
    "#print(predict)\n",
    "int_predict = [ round(elem, 2) for elem in predict ]\n",
    "print(\"Predicted y:\",int_predict)\n",
    "\n",
    "\n",
    "#plt.scatter(x,y)\n",
    "plt.scatter(int_predict,y)\n",
    "plt.xlabel('predict_y')\n",
    "plt.ylabel('y')\n",
    "plt.show()\n",
    "\n",
    "\n",
    "#To calculate error\n",
    "rmse=calculate_error(int_predict,y)\n",
    "print(\"RMSE:\",rmse)"
   ]
  },
  {
   "cell_type": "code",
   "execution_count": null,
   "metadata": {},
   "outputs": [],
   "source": []
  }
 ],
 "metadata": {
  "kernelspec": {
   "display_name": "Python 3",
   "language": "python",
   "name": "python3"
  },
  "language_info": {
   "codemirror_mode": {
    "name": "ipython",
    "version": 3
   },
   "file_extension": ".py",
   "mimetype": "text/x-python",
   "name": "python",
   "nbconvert_exporter": "python",
   "pygments_lexer": "ipython3",
   "version": "3.6.5"
  }
 },
 "nbformat": 4,
 "nbformat_minor": 2
}
